{
 "cells": [
  {
   "cell_type": "code",
   "execution_count": 17,
   "metadata": {},
   "outputs": [],
   "source": [
    "import os\n",
    "import torch\n",
    "import torch.nn as nn\n",
    "import torch.optim as optim\n",
    "import torch.nn.functional as F\n",
    "from sklearn.model_selection import train_test_split\n",
    "\n",
    "from torch.utils import data\n",
    "import pandas as pd\n",
    "import tqdm"
   ]
  },
  {
   "cell_type": "code",
   "execution_count": 18,
   "metadata": {},
   "outputs": [],
   "source": [
    "import numpy as np\n",
    "from scipy.io import loadmat"
   ]
  },
  {
   "cell_type": "code",
   "execution_count": 19,
   "metadata": {},
   "outputs": [],
   "source": [
    "device = torch.device(\"cuda:0\")"
   ]
  },
  {
   "cell_type": "code",
   "execution_count": 20,
   "metadata": {},
   "outputs": [
    {
     "data": {
      "text/plain": [
       "device(type='cuda', index=0)"
      ]
     },
     "execution_count": 20,
     "metadata": {},
     "output_type": "execute_result"
    }
   ],
   "source": [
    "device"
   ]
  },
  {
   "cell_type": "code",
   "execution_count": 21,
   "metadata": {},
   "outputs": [],
   "source": [
    "data_points = os.listdir(\"./Training_WFDB/\")"
   ]
  },
  {
   "cell_type": "code",
   "execution_count": 22,
   "metadata": {},
   "outputs": [],
   "source": [
    "data_points = set([i[:-4] for i in data_points])"
   ]
  },
  {
   "cell_type": "code",
   "execution_count": 23,
   "metadata": {},
   "outputs": [],
   "source": [
    "data_points = list(data_points)"
   ]
  },
  {
   "cell_type": "code",
   "execution_count": 24,
   "metadata": {},
   "outputs": [],
   "source": [
    "label_types = {\n",
    "    \"AF\" : 0,\n",
    "    \"I-AVB\" : 1,\n",
    "    \"LBBB\" : 2,\n",
    "    \"Normal\" : 3,\n",
    "    \"PAC\" : 4,\n",
    "    \"PVC\" : 5,\n",
    "    \"RBBB\" : 6,\n",
    "    \"STD\" : 7,\n",
    "    \"STE\" : 8\n",
    "} "
   ]
  },
  {
   "cell_type": "code",
   "execution_count": 25,
   "metadata": {},
   "outputs": [],
   "source": [
    "labels = []\n",
    "for i in data_points:\n",
    "    with open(\"./Training_WFDB/\" + i + \".hea\", \"r\") as f:\n",
    "        file = f.readlines()\n",
    "    for line in file:\n",
    "        if line.startswith(\"#Dx\"):\n",
    "            label = line.split(\":\")[1].strip()\n",
    "            labels.append(label)"
   ]
  },
  {
   "cell_type": "code",
   "execution_count": 26,
   "metadata": {},
   "outputs": [],
   "source": [
    "X_train, X_test, y_train, y_test = train_test_split(data_points, labels, test_size=0.2, shuffle=True)"
   ]
  },
  {
   "cell_type": "code",
   "execution_count": 27,
   "metadata": {},
   "outputs": [],
   "source": [
    "class DataSet(data.Dataset):\n",
    "    def __init__(self, input_x, output_y):\n",
    "        self.inputs = input_x\n",
    "        self.outputs = output_y\n",
    "        \n",
    "    def __len__(self):\n",
    "        return len(self.inputs)\n",
    "    \n",
    "    def __getitem__(self, idx):\n",
    "        file = self.inputs[idx]\n",
    "        data = loadmat(\"./Training_WFDB/\" + file + \".mat\")[\"val\"]\n",
    "        data = np.pad(data, ((0, 0), (0, 72000 - data.shape[1])), 'constant', constant_values=(0))\n",
    "        return torch.Tensor(data.T).to(device), self.outputs[idx]"
   ]
  },
  {
   "cell_type": "code",
   "execution_count": 33,
   "metadata": {},
   "outputs": [],
   "source": [
    "dataset_train = DataSet(X_train, y_train)\n",
    "dataloader_train = data.DataLoader(dataset_train, batch_size=32, shuffle=True)\n",
    "\n",
    "dataset_test = DataSet(X_test, y_test)\n",
    "dataloader_test = data.DataLoader(dataset_test, batch_size=32, shuffle=True)"
   ]
  },
  {
   "cell_type": "code",
   "execution_count": 34,
   "metadata": {},
   "outputs": [],
   "source": [
    "class Model(nn.Module):\n",
    "    def __init__(self):\n",
    "        super(Model, self).__init__()\n",
    "        self.layer1 = nn.Linear(12, 1)\n",
    "        self.convLayer1 = nn.Conv1d(in_channels=1, out_channels=3, kernel_size=5)\n",
    "        self.maxpool1 = nn.MaxPool1d(kernel_size=5)\n",
    "        self.convlayer2 = nn.Conv1d(in_channels=3, out_channels=5, kernel_size=5)\n",
    "        self.maxpool2 = nn.MaxPool1d(kernel_size=5)\n",
    "        self.convlayer3 = nn.Conv1d(in_channels=5, out_channels=7, kernel_size=5)\n",
    "        self.maxpool3 = nn.MaxPool1d(kernel_size=5)\n",
    "        self.layer2 = nn.Linear(7 * 575, 256)\n",
    "        self.layer3 = nn.Linear(256, 32)\n",
    "        self.layer4 = nn.Linear(32, 9)\n",
    "        \n",
    "        \n",
    "    def forward(self, inp):\n",
    "        inp = self.layer1(inp)\n",
    "        inp = inp.transpose(1, 2)\n",
    "        inp = torch.relu(self.convLayer1(inp))\n",
    "        inp = self.maxpool1(inp)\n",
    "        inp = torch.relu(self.convlayer2(inp))\n",
    "        inp = self.maxpool2(inp)\n",
    "        inp = torch.relu(self.convlayer3(inp))\n",
    "        inp = self.maxpool3(inp)\n",
    "        inp = inp.view(-1, 7 * inp.shape[2])\n",
    "        inp = torch.relu(self.layer2(inp))\n",
    "        inp = torch.relu(self.layer3(inp))\n",
    "        inp = self.layer4(inp)\n",
    "        \n",
    "        return inp"
   ]
  },
  {
   "cell_type": "code",
   "execution_count": 35,
   "metadata": {},
   "outputs": [],
   "source": [
    "net = Model().to(device)\n",
    "optimizer = optim.Adam(net.parameters(), lr=1e-3)\n",
    "criterion = nn.CrossEntropyLoss().to(device)"
   ]
  },
  {
   "cell_type": "code",
   "execution_count": 36,
   "metadata": {},
   "outputs": [],
   "source": [
    "def train():\n",
    "    epoch_loss = []\n",
    "    points = 0\n",
    "    for inp, outp in dataloader_train:\n",
    "        predicted = net(inp)\n",
    "        outp = list(outp)\n",
    "        points += 32\n",
    "        print(points, end='\\r')\n",
    "        for idx, out in enumerate(outp):  \n",
    "            outp[idx] = label_types[out.split(\",\")[0]]\n",
    "        outp = torch.Tensor(outp).long().to(device)\n",
    "        loss = criterion(predicted, outp)\n",
    "        epoch_loss.append(loss.item())\n",
    "        loss.backward()\n",
    "        optimizer.step()\n",
    "    \n",
    "    return np.mean(epoch_loss)"
   ]
  },
  {
   "cell_type": "code",
   "execution_count": 37,
   "metadata": {},
   "outputs": [],
   "source": [
    "def validation():\n",
    "    loss = []\n",
    "    for inp, outp in dataloader_test:\n",
    "        prediction = net(inp)\n",
    "        loss.append(criterion(prediction, outp))\n",
    "    return np.mean(loss)"
   ]
  },
  {
   "cell_type": "code",
   "execution_count": null,
   "metadata": {},
   "outputs": [
    {
     "name": "stderr",
     "output_type": "stream",
     "text": [
      "  0%|                                                                                                                                                                                    | 0/50 [00:00<?, ?it/s]"
     ]
    },
    {
     "name": "stdout",
     "output_type": "stream",
     "text": [
      "2016\r"
     ]
    }
   ],
   "source": [
    "for epoch in tqdm.tqdm(range(50)):\n",
    "    training_loss = train()\n",
    "    validation_loss = validation()\n",
    "    print(training_loss, validation_loss)"
   ]
  },
  {
   "cell_type": "code",
   "execution_count": null,
   "metadata": {},
   "outputs": [],
   "source": []
  }
 ],
 "metadata": {
  "kernelspec": {
   "display_name": "Python 3",
   "language": "python",
   "name": "python3"
  },
  "language_info": {
   "codemirror_mode": {
    "name": "ipython",
    "version": 3
   },
   "file_extension": ".py",
   "mimetype": "text/x-python",
   "name": "python",
   "nbconvert_exporter": "python",
   "pygments_lexer": "ipython3",
   "version": "3.7.4"
  }
 },
 "nbformat": 4,
 "nbformat_minor": 4
}
