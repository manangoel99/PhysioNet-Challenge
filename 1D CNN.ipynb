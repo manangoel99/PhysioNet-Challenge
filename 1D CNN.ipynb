{
 "cells": [
  {
   "cell_type": "code",
   "execution_count": 45,
   "metadata": {},
   "outputs": [],
   "source": [
    "import os\n",
    "import torch\n",
    "import torch.nn as nn\n",
    "import torch.optim as optim\n",
    "import torch.nn.functional as F\n",
    "from sklearn.model_selection import train_test_split\n",
    "from torch.autograd import Variable\n",
    "\n",
    "from torch.utils import data\n",
    "import pandas as pd\n",
    "import tqdm"
   ]
  },
  {
   "cell_type": "code",
   "execution_count": 46,
   "metadata": {},
   "outputs": [],
   "source": [
    "import numpy as np\n",
    "from scipy.io import loadmat"
   ]
  },
  {
   "cell_type": "code",
   "execution_count": 47,
   "metadata": {},
   "outputs": [],
   "source": [
    "device = torch.device(\"cuda:0\")"
   ]
  },
  {
   "cell_type": "code",
   "execution_count": 48,
   "metadata": {},
   "outputs": [
    {
     "data": {
      "text/plain": [
       "device(type='cuda', index=0)"
      ]
     },
     "execution_count": 48,
     "metadata": {},
     "output_type": "execute_result"
    }
   ],
   "source": [
    "device"
   ]
  },
  {
   "cell_type": "code",
   "execution_count": 49,
   "metadata": {},
   "outputs": [],
   "source": [
    "data_points = os.listdir(\"./Training_WFDB/\")"
   ]
  },
  {
   "cell_type": "code",
   "execution_count": 50,
   "metadata": {},
   "outputs": [],
   "source": [
    "data_points = set([i[:-4] for i in data_points])"
   ]
  },
  {
   "cell_type": "code",
   "execution_count": 51,
   "metadata": {},
   "outputs": [],
   "source": [
    "data_points = list(data_points)"
   ]
  },
  {
   "cell_type": "code",
   "execution_count": 52,
   "metadata": {},
   "outputs": [],
   "source": [
    "label_types = {\n",
    "    \"AF\" : 0,\n",
    "    \"I-AVB\" : 1,\n",
    "    \"LBBB\" : 2,\n",
    "    \"Normal\" : 3,\n",
    "    \"PAC\" : 4,\n",
    "    \"PVC\" : 5,\n",
    "    \"RBBB\" : 6,\n",
    "    \"STD\" : 7,\n",
    "    \"STE\" : 8\n",
    "} "
   ]
  },
  {
   "cell_type": "code",
   "execution_count": 53,
   "metadata": {},
   "outputs": [],
   "source": [
    "labels = []\n",
    "for i in data_points:\n",
    "    with open(\"./Training_WFDB/\" + i + \".hea\", \"r\") as f:\n",
    "        file = f.readlines()\n",
    "    for line in file:\n",
    "        if line.startswith(\"#Dx\"):\n",
    "            label = line.split(\":\")[1].strip()\n",
    "            labels.append(label)"
   ]
  },
  {
   "cell_type": "code",
   "execution_count": 54,
   "metadata": {},
   "outputs": [],
   "source": [
    "X_train, X_test, y_train, y_test = train_test_split(data_points, labels, test_size=0.2, shuffle=True)"
   ]
  },
  {
   "cell_type": "code",
   "execution_count": 121,
   "metadata": {},
   "outputs": [],
   "source": [
    "y_test_labels = []\n",
    "for i in y_test:\n",
    "    y_test_labels.append(label_types[i.split(\",\")[0]])\n",
    "\n",
    "y_test_labels = np.array(y_test_labels)"
   ]
  },
  {
   "cell_type": "code",
   "execution_count": 87,
   "metadata": {},
   "outputs": [],
   "source": [
    "class DataSet(data.Dataset):\n",
    "    def __init__(self, input_x, output_y):\n",
    "        self.inputs = input_x\n",
    "        self.outputs = output_y\n",
    "        \n",
    "    def __len__(self):\n",
    "        return len(self.inputs)\n",
    "    \n",
    "    def __getitem__(self, idx):\n",
    "        file = self.inputs[idx]\n",
    "        data = loadmat(\"./Training_WFDB/\" + file + \".mat\")[\"val\"]\n",
    "        data = np.pad(data, ((0, 0), (0, 72000 - data.shape[1])), 'constant', constant_values=(0))\n",
    "        return torch.Tensor(data.T).to(device), self.outputs[idx]"
   ]
  },
  {
   "cell_type": "code",
   "execution_count": 88,
   "metadata": {},
   "outputs": [],
   "source": [
    "dataset_train = DataSet(X_train, y_train)\n",
    "dataloader_train = data.DataLoader(dataset_train, batch_size=32, shuffle=True)\n",
    "\n",
    "dataset_test = DataSet(X_test, y_test)\n",
    "dataloader_test = data.DataLoader(dataset_test, batch_size=32, shuffle=True)"
   ]
  },
  {
   "cell_type": "code",
   "execution_count": 302,
   "metadata": {},
   "outputs": [],
   "source": [
    "class Model(nn.Module):\n",
    "    def __init__(self):\n",
    "        super(Model, self).__init__()\n",
    "        self.layer1 = nn.Linear(12, 1)\n",
    "        self.convLayer1 = nn.Conv1d(in_channels=1, out_channels=3, kernel_size=5)\n",
    "        self.maxpool1 = nn.MaxPool1d(kernel_size=5)\n",
    "        self.convlayer2 = nn.Conv1d(in_channels=3, out_channels=5, kernel_size=5)\n",
    "        self.maxpool2 = nn.MaxPool1d(kernel_size=5)\n",
    "        self.convlayer3 = nn.Conv1d(in_channels=5, out_channels=7, kernel_size=5)\n",
    "        self.maxpool3 = nn.MaxPool1d(kernel_size=5)\n",
    "        self.layer2 = nn.Linear(7 * 575, 256)\n",
    "        self.layer3 = nn.Linear(256, 32)\n",
    "        self.layer4 = nn.Linear(32, 9)\n",
    "        \n",
    "        \n",
    "    def forward(self, inp):\n",
    "        inp = self.layer1(inp)\n",
    "        inp = inp.transpose(1, 2)\n",
    "        inp = torch.relu(self.convLayer1(inp))\n",
    "        inp = self.maxpool1(inp)\n",
    "        inp = torch.relu(self.convlayer2(inp))\n",
    "        inp = self.maxpool2(inp)\n",
    "        inp = torch.relu(self.convlayer3(inp))\n",
    "        inp = self.maxpool3(inp)\n",
    "        inp = inp.view(-1, 7 * inp.shape[2])\n",
    "        inp = torch.relu(self.layer2(inp))\n",
    "        inp = torch.relu(self.layer3(inp))\n",
    "        inp = self.layer4(inp)\n",
    "        \n",
    "        return inp"
   ]
  },
  {
   "cell_type": "code",
   "execution_count": 303,
   "metadata": {},
   "outputs": [],
   "source": [
    "class Model2(nn.Module):\n",
    "    def __init__(self):\n",
    "        super(Model2, self).__init__()\n",
    "        self.convlayer1 = nn.Conv2d(1, 3, kernel_size=(5, 12))\n",
    "        self.maxpool1 = nn.MaxPool1d(kernel_size=5)\n",
    "        self.convlayer2 = nn.Conv1d(3, 5, kernel_size=5)\n",
    "        self.convlayer3 = nn.Conv1d(5, 7, kernel_size=5)\n",
    "        \n",
    "        self.layer1 = nn.Linear(4025, 1024)\n",
    "        self.layer2 = nn.Linear(1024, 128)\n",
    "        self.layer3 = nn.Linear(128, 32)\n",
    "        self.layer4 = nn.Linear(32, 9)\n",
    "        \n",
    "    def forward(self, inp):\n",
    "        inp = torch.relu(self.convlayer1(inp.unsqueeze(1)).squeeze(3))\n",
    "        inp = self.maxpool1(inp)\n",
    "        inp = torch.relu(self.convlayer2(inp))\n",
    "        inp = self.maxpool1(inp)\n",
    "        inp = torch.relu(self.convlayer3(inp))\n",
    "        inp = self.maxpool1(inp)\n",
    "        inp = inp.view(-1, inp.shape[1] * inp.shape[2])\n",
    "        inp = torch.sigmoid(self.layer1(inp))\n",
    "        inp = torch.sigmoid(self.layer2(inp))\n",
    "        inp = torch.sigmoid(self.layer3(inp))\n",
    "        inp = self.layer4(inp)\n",
    "        return inp"
   ]
  },
  {
   "cell_type": "code",
   "execution_count": 304,
   "metadata": {},
   "outputs": [],
   "source": [
    "class Model3(nn.Module):\n",
    "    def __init__(self):\n",
    "        super(Model3, self).__init__()\n",
    "        self.layer1 = nn.Linear(12, 1)\n",
    "        self.layer2 = nn.Linear(72000, 9)\n",
    "    \n",
    "    def forward(self, inp):\n",
    "        inp = self.layer1(inp)\n",
    "        inp = torch.sigmoid(inp)\n",
    "        inp = inp.view(-1, 72000)\n",
    "        inp = self.layer2(inp)\n",
    "        \n",
    "        return inp"
   ]
  },
  {
   "cell_type": "code",
   "execution_count": 305,
   "metadata": {},
   "outputs": [],
   "source": [
    "net = Model().to(device)"
   ]
  },
  {
   "cell_type": "code",
   "execution_count": 306,
   "metadata": {},
   "outputs": [],
   "source": [
    "# net = Model().to(device)\n",
    "optimizer = optim.SGD(net.parameters(), lr=1e-4)\n",
    "criterion = nn.CrossEntropyLoss().to(device)\n",
    "scheduler = optim.lr_scheduler.ReduceLROnPlateau(optimizer, verbose=True, patience=5)\n",
    "num_epochs = 100"
   ]
  },
  {
   "cell_type": "code",
   "execution_count": 307,
   "metadata": {},
   "outputs": [],
   "source": [
    "def train():\n",
    "    epoch_loss = []\n",
    "    points = 0\n",
    "    for inp, outp in dataloader_train:\n",
    "        predicted = net(inp)\n",
    "        outp = list(outp)\n",
    "        points += 32\n",
    "        print(points, end='\\r')\n",
    "        for idx, out in enumerate(outp):  \n",
    "            outp[idx] = label_types[out.split(\",\")[0]]\n",
    "        outp = torch.Tensor(outp).long().to(device)\n",
    "        loss = criterion(predicted, outp)\n",
    "        epoch_loss.append(loss.item())\n",
    "        loss.backward()\n",
    "        optimizer.step()\n",
    "    \n",
    "    return np.mean(epoch_loss)"
   ]
  },
  {
   "cell_type": "code",
   "execution_count": 308,
   "metadata": {},
   "outputs": [],
   "source": [
    "def validation():\n",
    "    loss = []\n",
    "    predictions = []\n",
    "    for inp, outp in dataloader_test:\n",
    "        prediction = net(inp)\n",
    "        predictions.extend(torch.argmax(prediction, dim=1).tolist())\n",
    "        outp = list(outp)\n",
    "        for idx, out in enumerate(outp):  \n",
    "            outp[idx] = label_types[out.split(\",\")[0]]\n",
    "        outp = torch.Tensor(outp).long().to(device)\n",
    "        loss.append(criterion(prediction, outp).item())\n",
    "    return np.mean(loss), predictions"
   ]
  },
  {
   "cell_type": "code",
   "execution_count": 309,
   "metadata": {},
   "outputs": [
    {
     "name": "stdout",
     "output_type": "stream",
     "text": [
      "Epoch Number : 0/100 Training Loss : 2.1481085627578027 Validation Loss : 2.133197634719139 Accuracy : 0.13953488372093023\n",
      "672\r"
     ]
    },
    {
     "ename": "KeyboardInterrupt",
     "evalue": "",
     "output_type": "error",
     "traceback": [
      "\u001b[0;31m---------------------------------------------------------------------------\u001b[0m",
      "\u001b[0;31mKeyboardInterrupt\u001b[0m                         Traceback (most recent call last)",
      "\u001b[0;32m<ipython-input-309-9d7c4e3051b0>\u001b[0m in \u001b[0;36m<module>\u001b[0;34m\u001b[0m\n\u001b[1;32m      1\u001b[0m \u001b[0mval_loss_store\u001b[0m \u001b[0;34m=\u001b[0m \u001b[0;36m1e10\u001b[0m\u001b[0;34m\u001b[0m\u001b[0;34m\u001b[0m\u001b[0m\n\u001b[1;32m      2\u001b[0m \u001b[0;32mfor\u001b[0m \u001b[0mepoch\u001b[0m \u001b[0;32min\u001b[0m \u001b[0mrange\u001b[0m\u001b[0;34m(\u001b[0m\u001b[0mnum_epochs\u001b[0m\u001b[0;34m)\u001b[0m\u001b[0;34m:\u001b[0m\u001b[0;34m\u001b[0m\u001b[0;34m\u001b[0m\u001b[0m\n\u001b[0;32m----> 3\u001b[0;31m     \u001b[0mtraining_loss\u001b[0m \u001b[0;34m=\u001b[0m \u001b[0mtrain\u001b[0m\u001b[0;34m(\u001b[0m\u001b[0;34m)\u001b[0m\u001b[0;34m\u001b[0m\u001b[0;34m\u001b[0m\u001b[0m\n\u001b[0m\u001b[1;32m      4\u001b[0m     \u001b[0mvalidation_loss\u001b[0m\u001b[0;34m,\u001b[0m \u001b[0mpredictions\u001b[0m \u001b[0;34m=\u001b[0m \u001b[0mvalidation\u001b[0m\u001b[0;34m(\u001b[0m\u001b[0;34m)\u001b[0m\u001b[0;34m\u001b[0m\u001b[0;34m\u001b[0m\u001b[0m\n\u001b[1;32m      5\u001b[0m     \u001b[0mpredictions\u001b[0m \u001b[0;34m=\u001b[0m \u001b[0mnp\u001b[0m\u001b[0;34m.\u001b[0m\u001b[0marray\u001b[0m\u001b[0;34m(\u001b[0m\u001b[0mpredictions\u001b[0m\u001b[0;34m)\u001b[0m\u001b[0;34m\u001b[0m\u001b[0;34m\u001b[0m\u001b[0m\n",
      "\u001b[0;32m<ipython-input-307-cfffaaf2ae7f>\u001b[0m in \u001b[0;36mtrain\u001b[0;34m()\u001b[0m\n\u001b[1;32m     12\u001b[0m         \u001b[0mloss\u001b[0m \u001b[0;34m=\u001b[0m \u001b[0mcriterion\u001b[0m\u001b[0;34m(\u001b[0m\u001b[0mpredicted\u001b[0m\u001b[0;34m,\u001b[0m \u001b[0moutp\u001b[0m\u001b[0;34m)\u001b[0m\u001b[0;34m\u001b[0m\u001b[0;34m\u001b[0m\u001b[0m\n\u001b[1;32m     13\u001b[0m         \u001b[0mepoch_loss\u001b[0m\u001b[0;34m.\u001b[0m\u001b[0mappend\u001b[0m\u001b[0;34m(\u001b[0m\u001b[0mloss\u001b[0m\u001b[0;34m.\u001b[0m\u001b[0mitem\u001b[0m\u001b[0;34m(\u001b[0m\u001b[0;34m)\u001b[0m\u001b[0;34m)\u001b[0m\u001b[0;34m\u001b[0m\u001b[0;34m\u001b[0m\u001b[0m\n\u001b[0;32m---> 14\u001b[0;31m         \u001b[0mloss\u001b[0m\u001b[0;34m.\u001b[0m\u001b[0mbackward\u001b[0m\u001b[0;34m(\u001b[0m\u001b[0;34m)\u001b[0m\u001b[0;34m\u001b[0m\u001b[0;34m\u001b[0m\u001b[0m\n\u001b[0m\u001b[1;32m     15\u001b[0m         \u001b[0moptimizer\u001b[0m\u001b[0;34m.\u001b[0m\u001b[0mstep\u001b[0m\u001b[0;34m(\u001b[0m\u001b[0;34m)\u001b[0m\u001b[0;34m\u001b[0m\u001b[0;34m\u001b[0m\u001b[0m\n\u001b[1;32m     16\u001b[0m \u001b[0;34m\u001b[0m\u001b[0m\n",
      "\u001b[0;32m~/anaconda3/lib/python3.7/site-packages/torch/tensor.py\u001b[0m in \u001b[0;36mbackward\u001b[0;34m(self, gradient, retain_graph, create_graph)\u001b[0m\n\u001b[1;32m    193\u001b[0m                 \u001b[0mproducts\u001b[0m\u001b[0;34m.\u001b[0m \u001b[0mDefaults\u001b[0m \u001b[0mto\u001b[0m\u001b[0;31m \u001b[0m\u001b[0;31m`\u001b[0m\u001b[0;31m`\u001b[0m\u001b[0;32mFalse\u001b[0m\u001b[0;31m`\u001b[0m\u001b[0;31m`\u001b[0m\u001b[0;34m.\u001b[0m\u001b[0;34m\u001b[0m\u001b[0;34m\u001b[0m\u001b[0m\n\u001b[1;32m    194\u001b[0m         \"\"\"\n\u001b[0;32m--> 195\u001b[0;31m         \u001b[0mtorch\u001b[0m\u001b[0;34m.\u001b[0m\u001b[0mautograd\u001b[0m\u001b[0;34m.\u001b[0m\u001b[0mbackward\u001b[0m\u001b[0;34m(\u001b[0m\u001b[0mself\u001b[0m\u001b[0;34m,\u001b[0m \u001b[0mgradient\u001b[0m\u001b[0;34m,\u001b[0m \u001b[0mretain_graph\u001b[0m\u001b[0;34m,\u001b[0m \u001b[0mcreate_graph\u001b[0m\u001b[0;34m)\u001b[0m\u001b[0;34m\u001b[0m\u001b[0;34m\u001b[0m\u001b[0m\n\u001b[0m\u001b[1;32m    196\u001b[0m \u001b[0;34m\u001b[0m\u001b[0m\n\u001b[1;32m    197\u001b[0m     \u001b[0;32mdef\u001b[0m \u001b[0mregister_hook\u001b[0m\u001b[0;34m(\u001b[0m\u001b[0mself\u001b[0m\u001b[0;34m,\u001b[0m \u001b[0mhook\u001b[0m\u001b[0;34m)\u001b[0m\u001b[0;34m:\u001b[0m\u001b[0;34m\u001b[0m\u001b[0;34m\u001b[0m\u001b[0m\n",
      "\u001b[0;32m~/anaconda3/lib/python3.7/site-packages/torch/autograd/__init__.py\u001b[0m in \u001b[0;36mbackward\u001b[0;34m(tensors, grad_tensors, retain_graph, create_graph, grad_variables)\u001b[0m\n\u001b[1;32m     97\u001b[0m     Variable._execution_engine.run_backward(\n\u001b[1;32m     98\u001b[0m         \u001b[0mtensors\u001b[0m\u001b[0;34m,\u001b[0m \u001b[0mgrad_tensors\u001b[0m\u001b[0;34m,\u001b[0m \u001b[0mretain_graph\u001b[0m\u001b[0;34m,\u001b[0m \u001b[0mcreate_graph\u001b[0m\u001b[0;34m,\u001b[0m\u001b[0;34m\u001b[0m\u001b[0;34m\u001b[0m\u001b[0m\n\u001b[0;32m---> 99\u001b[0;31m         allow_unreachable=True)  # allow_unreachable flag\n\u001b[0m\u001b[1;32m    100\u001b[0m \u001b[0;34m\u001b[0m\u001b[0m\n\u001b[1;32m    101\u001b[0m \u001b[0;34m\u001b[0m\u001b[0m\n",
      "\u001b[0;31mKeyboardInterrupt\u001b[0m: "
     ]
    }
   ],
   "source": [
    "val_loss_store = 1e10\n",
    "for epoch in range(num_epochs):\n",
    "    training_loss = train()\n",
    "    validation_loss, predictions = validation()\n",
    "    predictions = np.array(predictions)\n",
    "    accuracy = (predictions == y_test_labels).sum() / len(predictions)\n",
    "    scheduler.step(validation_loss)\n",
    "    if validation_loss < val_loss_store:\n",
    "        torch.save(net.state_dict(), \"model.tar\")\n",
    "    print(\"Epoch Number : {0}/{1} Training Loss : {2} Validation Loss : {3} Accuracy : {4}\".format(epoch, num_epochs, training_loss, validation_loss, accuracy))"
   ]
  },
  {
   "cell_type": "code",
   "execution_count": null,
   "metadata": {},
   "outputs": [],
   "source": []
  },
  {
   "cell_type": "code",
   "execution_count": null,
   "metadata": {},
   "outputs": [],
   "source": []
  }
 ],
 "metadata": {
  "kernelspec": {
   "display_name": "Python 3",
   "language": "python",
   "name": "python3"
  },
  "language_info": {
   "codemirror_mode": {
    "name": "ipython",
    "version": 3
   },
   "file_extension": ".py",
   "mimetype": "text/x-python",
   "name": "python",
   "nbconvert_exporter": "python",
   "pygments_lexer": "ipython3",
   "version": "3.7.6"
  }
 },
 "nbformat": 4,
 "nbformat_minor": 4
}
