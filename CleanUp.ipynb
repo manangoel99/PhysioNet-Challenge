{
 "cells": [
  {
   "cell_type": "code",
   "execution_count": 1,
   "metadata": {},
   "outputs": [],
   "source": [
    "from scipy.io import loadmat\n",
    "import os\n",
    "import numpy as np\n",
    "import tqdm"
   ]
  },
  {
   "cell_type": "code",
   "execution_count": 2,
   "metadata": {},
   "outputs": [],
   "source": [
    "hea_files = os.listdir(\"./Training_WFDB/\")\n",
    "hea_files = [\"./Training_WFDB/\" + i for i in hea_files if \"hea\" in i]\n",
    "\n",
    "mat_files = os.listdir(\"./Training_WFDB/\")\n",
    "mat_files = [\"./Training_WFDB/\" + i for i in mat_files if \"mat\" in i]"
   ]
  },
  {
   "cell_type": "code",
   "execution_count": 5,
   "metadata": {},
   "outputs": [
    {
     "name": "stderr",
     "output_type": "stream",
     "text": [
      "100%|██████████| 6877/6877 [02:54<00:00, 39.35it/s] \n"
     ]
    }
   ],
   "source": [
    "max_length = -np.inf\n",
    "min_length = np.inf\n",
    "\n",
    "data_points = {}\n",
    "\n",
    "for f in tqdm.tqdm(mat_files):\n",
    "    data = loadmat(f)['val']\n",
    "    data_points[f] = {}\n",
    "    with open(f.replace(\"mat\", \"hea\"), \"r\") as file:\n",
    "        extra = file.readlines()\n",
    "    for idx, line in enumerate(extra):\n",
    "        extra[idx] = line.strip()\n",
    "        \n",
    "        if extra[idx].startswith(\"#Age\"):\n",
    "            age = extra[idx].split(\":\")[1].strip()\n",
    "            try:\n",
    "                data_points[f]['age'] = int(age)\n",
    "            except:\n",
    "                data_points[f]['age'] = np.nan\n",
    "        \n",
    "        if extra[idx].startswith(\"#Sex\"):\n",
    "            sex = extra[idx].split(\":\")[1].strip()\n",
    "            data_points[f]['sex'] = sex\n",
    "        \n",
    "        if extra[idx].startswith(\"#Dx\"):\n",
    "            label = extra[idx].split(\":\")[1].strip()\n",
    "            data_points[f]['label'] =  label\n",
    "\n",
    "    if data.shape[1] > max_length:\n",
    "        max_length = data.shape[1]\n",
    "    if data.shape[1] < min_length:\n",
    "        min_length = data.shape[1]\n",
    "    data = np.pad(data, ((0, 0), (0, 72000 - data.shape[1])), 'constant', constant_values=(0))\n",
    "    data_points[f]['vals'] = data\n"
   ]
  },
  {
   "cell_type": "code",
   "execution_count": 6,
   "metadata": {},
   "outputs": [],
   "source": [
    "import pickle"
   ]
  },
  {
   "cell_type": "code",
   "execution_count": null,
   "metadata": {},
   "outputs": [],
   "source": [
    "with open(\"./CleanData.pkl\", \"wb\") as f:\n",
    "    pickle.dump(data_points, f)"
   ]
  },
  {
   "cell_type": "code",
   "execution_count": null,
   "metadata": {},
   "outputs": [],
   "source": []
  }
 ],
 "metadata": {
  "kernelspec": {
   "display_name": "Python 3",
   "language": "python",
   "name": "python3"
  },
  "language_info": {
   "codemirror_mode": {
    "name": "ipython",
    "version": 3
   },
   "file_extension": ".py",
   "mimetype": "text/x-python",
   "name": "python",
   "nbconvert_exporter": "python",
   "pygments_lexer": "ipython3",
   "version": "3.7.3"
  }
 },
 "nbformat": 4,
 "nbformat_minor": 4
}
